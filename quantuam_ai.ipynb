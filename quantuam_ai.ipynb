{
  "nbformat": 4,
  "nbformat_minor": 0,
  "metadata": {
    "colab": {
      "provenance": [],
      "include_colab_link": true
    },
    "kernelspec": {
      "name": "python3",
      "display_name": "Python 3"
    },
    "language_info": {
      "name": "python"
    }
  },
  "cells": [
    {
      "cell_type": "markdown",
      "metadata": {
        "id": "view-in-github",
        "colab_type": "text"
      },
      "source": [
        "<a href=\"https://colab.research.google.com/github/gytjd/QA_Data_Augmentation/blob/main/quantuam_ai.ipynb\" target=\"_parent\"><img src=\"https://colab.research.google.com/assets/colab-badge.svg\" alt=\"Open In Colab\"/></a>"
      ]
    },
    {
      "cell_type": "code",
      "source": [
        "from google.colab import drive\n",
        "drive.mount('/content/drive')"
      ],
      "metadata": {
        "colab": {
          "base_uri": "https://localhost:8080/"
        },
        "id": "x3g6W31FQiOm",
        "outputId": "c079fef6-3631-468c-d480-ab5802ba67d1"
      },
      "execution_count": 25,
      "outputs": [
        {
          "output_type": "stream",
          "name": "stdout",
          "text": [
            "Drive already mounted at /content/drive; to attempt to forcibly remount, call drive.mount(\"/content/drive\", force_remount=True).\n"
          ]
        }
      ]
    },
    {
      "cell_type": "code",
      "source": [
        "# 이미지 전처리\n",
        "\n",
        "import cv2\n",
        "import numpy as np\n",
        "from scipy import ndimage\n",
        "from statistics import median\n",
        "\n",
        "from google.colab import drive\n",
        "drive.mount('/content/drive')\n",
        "FOLDERNAME='Quantuam_AI'\n",
        "\n",
        "import sys\n",
        "sys.path.append('/content/drive/MyDrive/{}'.format(FOLDERNAME))\n",
        "\n",
        "\n",
        "def process_image(img_path, save_path):\n",
        "    # 이미지 로딩\n",
        "    img = cv2.imread(img_path)\n",
        "\n",
        "    # 1. 이미지를 grayscale로 변환\n",
        "    gray = cv2.cvtColor(img, cv2.COLOR_BGR2GRAY)\n",
        "\n",
        "    # 2. 이미지 노이즈 제거\n",
        "    denoised = cv2.fastNlMeansDenoising(gray, None, 30, 7, 21)\n",
        "\n",
        "    # 3. 가우시안 블러링 실행\n",
        "    blurred = cv2.GaussianBlur(denoised, (5,5), 0)\n",
        "\n",
        "    # 4. 이미지의 엣지검출\n",
        "    edges = cv2.Canny(blurred, 50, 150)\n",
        "\n",
        "    # 5. 확률적 허프변환에 의한 선분 검출\n",
        "    lines = cv2.HoughLinesP(edges, 1, np.pi/180, 50, minLineLength=50, maxLineGap=5)\n",
        "\n",
        "    # 6. 선의 유무에 따라\n",
        "    if lines is not None:\n",
        "        angles = []\n",
        "        for line in lines:\n",
        "            x1, y1, x2, y2 = line[0]\n",
        "            # 6-2-1. 추출된 선들 기반으로 각도 계산\n",
        "            angle = np.arctan2(y2 - y1, x2 - x1) * 180 / np.pi\n",
        "            angles.append(angle)\n",
        "\n",
        "        # 6-2-2. 각도 계산에 사용된 선의 길이가 선들의 중앙값보다 작은 각도 제외\n",
        "        med_angle = median(angles)\n",
        "        filtered_angles = [angle for angle in angles if abs(angle) > med_angle]\n",
        "\n",
        "        # 6-2-3. 남은 각도의 분포 기반으로 수정각도 계산\n",
        "        correct_angle = np.mean(filtered_angles)\n",
        "\n",
        "        # 6-2-4. 수정각도가 0 또는 90이 아닐때 수정각도만큼 이미지 회전\n",
        "        if correct_angle not in [0, 90]:\n",
        "            rotated = ndimage.rotate(img, correct_angle)\n",
        "        else:\n",
        "            rotated = img.copy()\n",
        "    else:\n",
        "        # 6-1. 각도 계산이 불가능하므로 해당 이미지대로 저장\n",
        "        rotated = img.copy()\n",
        "\n",
        "    # 7. 학습을 위해 이미지의 가로길이, 세로길이, DPI를 일관되게 저장\n",
        "    resized = cv2.resize(rotated, (300, 300))\n",
        "    cv2.imwrite(\"save_path.jpg\", resized)\n",
        "    return resized\n",
        "\n",
        "\n",
        "\n",
        "def aug_Spin(image, rotation_range=(-360, 360)):\n",
        "    # 1. 랜덤 회전\n",
        "    angle = np.random.randint(rotation_range[0], rotation_range[1])\n",
        "    rotated = ndimage.rotate(image, angle, reshape=False, mode='nearest')\n",
        "    return rotated\n",
        "\n",
        "\n",
        "\n",
        "def aug_Bright(image, brightness_range=(-300, 300)):\n",
        "    # 3. 랜덤 밝기 조절\n",
        "    brightness = np.random.randint(brightness_range[0], brightness_range[1])\n",
        "    brightened = cv2.convertScaleAbs(image, alpha=1, beta=brightness)\n",
        "    return brightened\n",
        "\n",
        "def aug_Constrast(image, contrast_range=(0.0, 5.0)):\n",
        "    # 4. 랜덤 대비 조절\n",
        "    contrast = np.random.uniform(contrast_range[0], contrast_range[1])\n",
        "    contrasted = cv2.convertScaleAbs(image, alpha=contrast, beta=0)\n",
        "    return contrasted\n",
        "\n",
        "def aug_Noise(image, noise_stddev=50):\n",
        "\n",
        "    # 6. 랜덤 노이즈 추가\n",
        "    mean = 0\n",
        "    stddev = noise_stddev\n",
        "    noise = np.random.normal(mean, stddev, image.shape).astype(np.uint8)\n",
        "    noisy = cv2.add(image, noise)\n",
        "\n",
        "    return noisy\n",
        "\n",
        "def aug_Blur(image, blur_kernel=(5, 5)):\n",
        "    # 7. 이미지 블러 처리\n",
        "    blurred = cv2.GaussianBlur(image, blur_kernel, 10)\n",
        "    return blurred\n",
        "\n",
        "\n",
        "def aug_Shift(image, shift_range=(0, 100)):\n",
        "    # 8. 이미지 이동\n",
        "    h, w, _ = image.shape\n",
        "    shift_x = np.random.randint(shift_range[0], shift_range[1])\n",
        "    shift_y = np.random.randint(shift_range[0], shift_range[1])\n",
        "    M = np.float32([[1, 0, shift_x], [0, 1, shift_y]])\n",
        "    shifted = cv2.warpAffine(image, M, (w, h))\n",
        "    return shifted\n",
        "\n",
        "def aug_ColorShift(image, shift_range=(-200, 200)):\n",
        "    # 11. 이미지의 각 채널을 랜덤하게 색조 변경\n",
        "    shifted = image.copy()\n",
        "    for c in range(3):  # RGB 채널에 대해 반복\n",
        "        shift_value = np.random.randint(shift_range[0], shift_range[1])\n",
        "        shifted[:, :, c] = np.clip(shifted[:, :, c] + shift_value, 0, 255)\n",
        "    return shifted\n",
        "\n",
        "def aug_Grayscale(image):\n",
        "    # 12. 이미지를 흑백으로 변환\n",
        "    grayscale = cv2.cvtColor(image, cv2.COLOR_BGR2GRAY)\n",
        "    return cv2.cvtColor(grayscale, cv2.COLOR_GRAY2BGR)\n",
        "\n",
        "\n",
        "def save_augmented_images(original_path, save_dir, num_augments=20):\n",
        "    original = process_image(original_path, None)\n",
        "\n",
        "    for i in range(num_augments):\n",
        "      temp=aug_Spin(original)\n",
        "      if i%8==0:\n",
        "        augmented = aug_Bright(temp)\n",
        "      elif i%8==1:\n",
        "        augmented = aug_Constrast(temp)\n",
        "      elif i%8==2 or i%8==3:\n",
        "        augmented = aug_Noise(temp)\n",
        "      elif i%8==4:\n",
        "        augmented = aug_Blur(temp)\n",
        "      elif i%8==5:\n",
        "        augmented = aug_Shift(temp)\n",
        "      elif i%8==6:\n",
        "        augmented = aug_ColorShift(temp)\n",
        "      elif i%8== 7:\n",
        "        augmented = aug_Grayscale(temp)\n",
        "\n",
        "      save_path = f\"{save_dir}/augmented_{i}_{original_path.split('/')[-1]}\"\n",
        "      cv2.imwrite(save_path, augmented)\n",
        "\n",
        "\n",
        "# 이미지 경로와 저장 디렉토리를 지정하여 함수 호출\n",
        "save_augmented_images('/content/data_input/1.jpeg', '/content/drive/MyDrive/Quantuam_AI')\n"
      ],
      "metadata": {
        "id": "B7O8YBtb_UBh",
        "colab": {
          "base_uri": "https://localhost:8080/"
        },
        "outputId": "79eaf6e3-661a-40a8-e70f-d168991137ac"
      },
      "execution_count": 46,
      "outputs": [
        {
          "output_type": "stream",
          "name": "stdout",
          "text": [
            "Drive already mounted at /content/drive; to attempt to forcibly remount, call drive.mount(\"/content/drive\", force_remount=True).\n"
          ]
        }
      ]
    }
  ]
}